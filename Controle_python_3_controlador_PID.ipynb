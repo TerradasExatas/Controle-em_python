{
  "nbformat": 4,
  "nbformat_minor": 0,
  "metadata": {
    "colab": {
      "name": "Controle python 3 controlador PID.ipynb",
      "provenance": [],
      "authorship_tag": "ABX9TyPpJ5Rv5MfdLYbfaWlnCprW"
    },
    "kernelspec": {
      "name": "python3",
      "display_name": "Python 3"
    },
    "language_info": {
      "name": "python"
    }
  },
  "cells": [
    {
      "cell_type": "code",
      "metadata": {
        "id": "ig9cjT6SdDvw"
      },
      "source": [
        "pip install control"
      ],
      "execution_count": null,
      "outputs": []
    },
    {
      "cell_type": "code",
      "metadata": {
        "colab": {
          "base_uri": "https://localhost:8080/",
          "height": 571
        },
        "id": "Coj3PElRdXQd",
        "outputId": "54f6e277-b2c0-4c9f-8dad-ce1d2b8d869a"
      },
      "source": [
        "import control as ctl\n",
        "import matplotlib.pyplot as plt\n",
        "import numpy as np\n",
        "\n",
        "# cria a função de transferência em malha aberta\n",
        "km = 1.6;#constante da mola\n",
        "massa=0.1;# massa do peso\n",
        "fv=0.2;#const de amortecimento\n",
        "Wn = np.sqrt(km/massa)\n",
        "eta = (fv/massa)/(2*Wn)\n",
        "print ('Wn e eta =',[Wn, eta])\n",
        "Tsim=10;\n",
        "numerador = [1.]\n",
        "denominador = [massa, fv, km]\n",
        "P_s = ctl.tf(numerador, denominador)\n",
        "print(' FT malha aberta= ' ,P_s)\n",
        "# controlador PID\n",
        "Ki=10*Wn;Kp=10*Wn;Kd=1*Wn;\n",
        "#Ki=0;Kp=10;Kd=0;\n",
        "C_s=ctl.tf([Kd, Kp, Ki],[1., 0.])\n",
        "#C_s=ctl.tf([Kp],[1.])\n",
        "print(' FT controlador= ' ,C_s)\n",
        "# sensor unitário\n",
        "H_s=ctl.tf([1.],[1.])\n",
        "\n",
        "#Funcao de transf MF\n",
        "#G1_s=(C_s*P_s)/(1+C_s*P_s*H_s)\n",
        "G1_s=ctl.feedback(ctl.series(C_s, P_s), H_s, sign=-1)\n",
        "print(' FT malha fechada= ' ,G1_s)\n",
        "\n",
        "#calcula a resposta ao degrau\n",
        "T, yout = ctl.step_response(P_s, Tsim)\n",
        "T_mf, yout_mf = ctl.step_response(G1_s, Tsim)\n",
        "T2=np.linspace(-1.,Tsim,1000)\n",
        "\n",
        "#calcula um degrau unitário\n",
        "degrau=np.ones_like(T2)\n",
        "degrau[T2<0]=0;\n",
        "\n",
        "#plota os resultados\n",
        "plt.plot(T,yout,'b-')\n",
        "plt.plot(T_mf,yout_mf,'k-')\n",
        "plt.plot(T2,degrau,'r-')\n",
        "plt.xlabel('tempo (s)')\n",
        "plt.legend(['resposta em malha aberta','resposta em malha fechada','degrau unitário'])\n",
        "plt.grid(); plt.title('Sistema de 2ª ordem');"
      ],
      "execution_count": 3,
      "outputs": [
        {
          "output_type": "stream",
          "name": "stdout",
          "text": [
            "Wn e eta = [4.0, 0.25]\n",
            " FT malha aberta=  \n",
            "          1\n",
            "---------------------\n",
            "0.1 s^2 + 0.2 s + 1.6\n",
            "\n",
            " FT controlador=  \n",
            "4 s^2 + 40 s + 40\n",
            "-----------------\n",
            "        s\n",
            "\n",
            " FT malha fechada=  \n",
            "       4 s^2 + 40 s + 40\n",
            "-------------------------------\n",
            "0.1 s^3 + 4.2 s^2 + 41.6 s + 40\n",
            "\n"
          ]
        },
        {
          "output_type": "display_data",
          "data": {
            "image/png": "[encoded data removed]",
            "text/plain": [
              "<Figure size 432x288 with 1 Axes>"
            ]
          },
          "metadata": {
            "needs_background": "light"
          }
        }
      ]
    }
  ]
}