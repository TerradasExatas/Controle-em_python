{
  "nbformat": 4,
  "nbformat_minor": 0,
  "metadata": {
    "colab": {
      "name": "Controle python 1 malha aberta.ipynb",
      "provenance": [],
      "authorship_tag": "ABX9TyPTVkAj2rTXW7qt7sMEYz1e"
    },
    "kernelspec": {
      "name": "python3",
      "display_name": "Python 3"
    },
    "language_info": {
      "name": "python"
    }
  },
  "cells": [
    {
      "cell_type": "code",
      "metadata": {
        "id": "dz35MVdQ6G5d"
      },
      "source": [
        "pip install control"
      ],
      "execution_count": null,
      "outputs": []
    },
    {
      "cell_type": "code",
      "metadata": {
        "id": "aCLEXZaQ6aO-"
      },
      "source": [
        "import control as ctl\n",
        "import matplotlib.pyplot as plt\n",
        "import numpy as np\n",
        "\n",
        "# cria a função de transferência em malha aberta\n",
        "R = 1.0; #resistor\n",
        "C = 1.0; #capacitor\n",
        "Tsim=10;\n",
        "numerador = [1.]\n",
        "denominador = [R*C,1.]\n",
        "H = ctl.tf(numerador, denominador)\n",
        "print(' FT malha aberta= ' ,H)\n",
        "#calcula a resposta ao degrau\n",
        "T, yout = ctl.step_response(H, Tsim)\n",
        "plt.plot(T,yout,'b-')\n",
        "#calcula um degrau unitário\n",
        "T2=np.linspace(-1.,10.,1000)\n",
        "degrau=np.ones_like(T2)\n",
        "degrau[T2<0]=0;\n",
        "plt.plot(T2,degrau,'r-')\n",
        "plt.ylabel('V (V)')\n",
        "plt.xlabel('tempo (s)')\n",
        "plt.legend(['resposta ao degrau','degrau unitário'])\n",
        "plt.grid()"
      ],
      "execution_count": null,
      "outputs": []
    }
  ]
}