{
  "nbformat": 4,
  "nbformat_minor": 0,
  "metadata": {
    "colab": {
      "name": "Controle python 2 malha fechada.ipynb",
      "provenance": [],
      "authorship_tag": "ABX9TyMnKeqBkN1YnwI3mKhbnfVv"
    },
    "kernelspec": {
      "name": "python3",
      "display_name": "Python 3"
    },
    "language_info": {
      "name": "python"
    }
  },
  "cells": [
    {
      "cell_type": "code",
      "metadata": {
        "id": "acWVPJAUKxwY"
      },
      "source": [
        "pip install control"
      ],
      "execution_count": null,
      "outputs": []
    },
    {
      "cell_type": "code",
      "metadata": {
        "colab": {
          "base_uri": "https://localhost:8080/",
          "height": 554
        },
        "id": "_B6D6rlDKyVc",
        "outputId": "415c2ddc-847d-4443-e4b9-cd589e9e4fa4"
      },
      "source": [
        "import control as ctl\n",
        "import matplotlib.pyplot as plt\n",
        "import numpy as np\n",
        "\n",
        "R = 20.0e3; C=10.0e-6; tau=R*C;\n",
        "Tsim=1.;\n",
        "# cria a função de transferência em malha aberta\n",
        "numerador = [1/tau]; denominador = [1., 1/tau]\n",
        "P_s = ctl.tf(numerador, denominador)\n",
        "print(' FT malha aberta= ' ,P_s)\n",
        "# cria a função de transferência do controlador\n",
        "C_s=ctl.tf([3.],[1.])\n",
        "print(' FT controlador= ' ,C_s)\n",
        "# cria a função de transferência do sensor\n",
        "H_s=ctl.tf([1.],[1.])\n",
        "#Funcao de transf Malha fechada\n",
        "#G1_s=(C_s*P_s)/(1+C_s*P_s*H_s)\n",
        "G_s=ctl.series(C_s, P_s);\n",
        "G1_s=ctl.feedback(G_s, H_s, sign=-1);\n",
        "print(' FT malha fechada= ' ,G1_s)\n",
        "#calcula a resposta ao degrau\n",
        "T_mf, yout_mf = ctl.step_response(G1_s, Tsim)\n",
        "#calcula um degrau unitário\n",
        "T2=np.linspace(-0.2,Tsim,1000)\n",
        "degrau=np.ones_like(T2)\n",
        "degrau[T2<0]=0;\n",
        "#plota os resultados\n",
        "plt.plot(T_mf,yout_mf,'b-')\n",
        "plt.plot(T2,degrau,'r-')\n",
        "plt.ylabel('V (V)'); plt.xlabel('tempo (s)')\n",
        "plt.legend(['resposta ao degrau','degrau unitário'])\n",
        "plt.title('Circuito RC em malha fechada'); plt.grid()"
      ],
      "execution_count": 2,
      "outputs": [
        {
          "output_type": "stream",
          "name": "stdout",
          "text": [
            " FT malha aberta=  \n",
            "  5\n",
            "-----\n",
            "s + 5\n",
            "\n",
            " FT controlador=  \n",
            "3\n",
            "-\n",
            "1\n",
            "\n",
            " FT malha fechada=  \n",
            "  15\n",
            "------\n",
            "s + 20\n",
            "\n"
          ]
        },
        {
          "output_type": "display_data",
          "data": {
            "image/png": "[encoded data removed]",
            "text/plain": [
              "<Figure size 432x288 with 1 Axes>"
            ]
          },
          "metadata": {
            "needs_background": "light"
          }
        }
      ]
    }
  ]
}