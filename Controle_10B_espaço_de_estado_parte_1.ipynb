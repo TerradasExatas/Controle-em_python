{
  "nbformat": 4,
  "nbformat_minor": 0,
  "metadata": {
    "colab": {
      "name": "Controle 10B espaço de estado parte 1.ipynb",
      "provenance": [],
      "authorship_tag": "ABX9TyM7xeEXIV+sqIcmUZlA4NMj"
    },
    "kernelspec": {
      "name": "python3",
      "display_name": "Python 3"
    },
    "language_info": {
      "name": "python"
    }
  },
  "cells": [
    {
      "cell_type": "code",
      "source": [
        "#https://docs.scipy.org/doc/scipy/reference/generated/scipy.signal.lsim2.html\n",
        "\n",
        "# exemplo 1: 1 entrada e 2 saídas\n",
        "import numpy as np\n",
        "import matplotlib.pyplot as plt\n",
        "from scipy.signal import lti, lsim2\n",
        "\n",
        "#cria as matrizes do espaço de estados\n",
        "\n",
        "#sistema massa mola amortecedor 2 saídas\n",
        "K=1; fv=0.5; M=3;\n",
        "A = np.array([[0, 1],[- K/M, -fv/M]])\n",
        "B = np.array([[0],[1/M]])\n",
        "C = np.array([[1, 0],[0, M]]) # x e p como saídas\n",
        "D = np.array([[0],[0]])\n",
        "\n",
        "#cria um sistema linear e invariante no tempo\n",
        "system = lti(A, B, C, D)\n",
        "\n",
        "#define as condições iniciais para a simulação\n",
        "cond_ini=[0,0]\n",
        "\n",
        "#define o tempo e o passo da simulação\n",
        "Tsim=200;\n",
        "step=0.1;\n",
        "t = np.arange(0,Tsim,step)\n",
        "#Define a entrada (fext): aleatória, degrau ou rampa\n",
        "#u = np.random.rand(len(t),1)\n",
        "u = np.ones_like(t)\n",
        "#u = t*np.ones_like(t)\n",
        "\n",
        "#simula o sistema usando odeint\n",
        "tout, y, x = lsim2(system, u, t, cond_ini)\n",
        "\n",
        "#calcula a entrada, só para mostrar no gráfico\n",
        "t2 = np.arange(-Tsim/20,0,step)\n",
        "u2 = 0*np.ones_like(t2)\n",
        "degrau=np.concatenate([u2, u],axis=0)\n",
        "t_degrau=np.concatenate([t2, t],axis=0)\n",
        "\n",
        "plt.figure()\n",
        "plt.subplot(2,1,1)\n",
        "plt.plot(t, y[:,0],'b',label='posição (m)')\n",
        "plt.plot(t_degrau, degrau,'r',label='entrada: f_{ext}')\n",
        "plt.xlabel('t (s)')\n",
        "plt.ylabel('posição (m)')\n",
        "plt.legend()\n",
        "plt.grid()\n",
        "plt.subplot(2,1,2)\n",
        "plt.plot(t, y[:,1])\n",
        "plt.ylabel('momento linear (kg*m/s)')\n",
        "plt.xlabel('t (s)')\n",
        "plt.grid()\n",
        "plt.tight_layout()\n",
        "plt.show()\n",
        "\n",
        "\"\"\"\n",
        "plt.figure()\n",
        "plt.subplot(2,1,1)\n",
        "plt.plot(t, y[:,0],'b',label='saída (y=x)')\n",
        "plt.plot(t, y[:,1],'g',label='saída (y=p)')\n",
        "plt.xlabel('t (s)')\n",
        "plt.legend()\n",
        "plt.subplot(2,1,2)\n",
        "plt.plot(t, x[:,0],'r',label='estado (x)')\n",
        "plt.plot(t, x[:,1],'m',label='estado (dx/dt)')\n",
        "plt.xlabel('t (s)')\n",
        "plt.legend()\n",
        "plt.tight_layout()\n",
        "plt.show()\n",
        "\"\"\""
      ],
      "metadata": {
        "colab": {
          "base_uri": "https://localhost:8080/",
          "height": 294
        },
        "id": "3xqi5Dr-UOjG",
        "outputId": "164a90a2-e12e-44e3-b964-39a516283aaf"
      },
      "execution_count": null,
      "outputs": [
        {
          "output_type": "error",
          "ename": "ValueError",
          "evalue": "ignored",
          "traceback": [
            "\u001b[0;31m---------------------------------------------------------------------------\u001b[0m",
            "\u001b[0;31mValueError\u001b[0m                                Traceback (most recent call last)",
            "\u001b[0;32m<ipython-input-14-5d4e720dedb9>\u001b[0m in \u001b[0;36m<module>\u001b[0;34m()\u001b[0m\n\u001b[1;32m     36\u001b[0m \u001b[0mt2\u001b[0m \u001b[0;34m=\u001b[0m \u001b[0mnp\u001b[0m\u001b[0;34m.\u001b[0m\u001b[0marange\u001b[0m\u001b[0;34m(\u001b[0m\u001b[0;34m-\u001b[0m\u001b[0mTsim\u001b[0m\u001b[0;34m/\u001b[0m\u001b[0;36m20\u001b[0m\u001b[0;34m,\u001b[0m\u001b[0;36m0\u001b[0m\u001b[0;34m,\u001b[0m\u001b[0mstep\u001b[0m\u001b[0;34m)\u001b[0m\u001b[0;34m\u001b[0m\u001b[0;34m\u001b[0m\u001b[0m\n\u001b[1;32m     37\u001b[0m \u001b[0mu2\u001b[0m \u001b[0;34m=\u001b[0m \u001b[0;36m0\u001b[0m\u001b[0;34m*\u001b[0m\u001b[0mnp\u001b[0m\u001b[0;34m.\u001b[0m\u001b[0mones_like\u001b[0m\u001b[0;34m(\u001b[0m\u001b[0mt2\u001b[0m\u001b[0;34m)\u001b[0m\u001b[0;34m\u001b[0m\u001b[0;34m\u001b[0m\u001b[0m\n\u001b[0;32m---> 38\u001b[0;31m \u001b[0mdegrau\u001b[0m\u001b[0;34m=\u001b[0m\u001b[0mnp\u001b[0m\u001b[0;34m.\u001b[0m\u001b[0mconcatenate\u001b[0m\u001b[0;34m(\u001b[0m\u001b[0;34m[\u001b[0m\u001b[0mu2\u001b[0m\u001b[0;34m,\u001b[0m \u001b[0mu\u001b[0m\u001b[0;34m]\u001b[0m\u001b[0;34m,\u001b[0m\u001b[0maxis\u001b[0m\u001b[0;34m=\u001b[0m\u001b[0;36m0\u001b[0m\u001b[0;34m)\u001b[0m\u001b[0;34m\u001b[0m\u001b[0;34m\u001b[0m\u001b[0m\n\u001b[0m\u001b[1;32m     39\u001b[0m \u001b[0mt_degrau\u001b[0m\u001b[0;34m=\u001b[0m\u001b[0mnp\u001b[0m\u001b[0;34m.\u001b[0m\u001b[0mconcatenate\u001b[0m\u001b[0;34m(\u001b[0m\u001b[0;34m[\u001b[0m\u001b[0mt2\u001b[0m\u001b[0;34m,\u001b[0m \u001b[0mt\u001b[0m\u001b[0;34m]\u001b[0m\u001b[0;34m,\u001b[0m\u001b[0maxis\u001b[0m\u001b[0;34m=\u001b[0m\u001b[0;36m0\u001b[0m\u001b[0;34m)\u001b[0m\u001b[0;34m\u001b[0m\u001b[0;34m\u001b[0m\u001b[0m\n\u001b[1;32m     40\u001b[0m \u001b[0;34m\u001b[0m\u001b[0m\n",
            "\u001b[0;32m<__array_function__ internals>\u001b[0m in \u001b[0;36mconcatenate\u001b[0;34m(*args, **kwargs)\u001b[0m\n",
            "\u001b[0;31mValueError\u001b[0m: all the input arrays must have same number of dimensions, but the array at index 0 has 1 dimension(s) and the array at index 1 has 2 dimension(s)"
          ]
        }
      ]
    }
  ]
}